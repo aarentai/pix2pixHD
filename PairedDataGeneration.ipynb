{
 "cells": [
  {
   "cell_type": "code",
   "execution_count": 3,
   "metadata": {},
   "outputs": [],
   "source": [
    "import numpy, PIL.Image, scipy, os\n",
    "from tqdm import tqdm"
   ]
  },
  {
   "cell_type": "code",
   "execution_count": 7,
   "metadata": {},
   "outputs": [
    {
     "name": "stderr",
     "output_type": "stream",
     "text": [
      "100%|██████████| 63/63 [03:50<00:00,  3.66s/it]\n"
     ]
    }
   ],
   "source": [
    "dataset_type = 'phtds'\n",
    "desired_size = 1024\n",
    "A_dir = f'/home/ubuntu/hcdai/Projects/Datasets/{dataset_type}_hed'\n",
    "B_dir = f'/home/ubuntu/hcdai/Projects/Datasets/{dataset_type}_raw'\n",
    "A_resized_dir = f'/home/ubuntu/hcdai/Projects/pix2pixHD/datasets/edges2{dataset_type}{desired_size}/train_A'\n",
    "B_resized_dir = f'/home/ubuntu/hcdai/Projects/pix2pixHD/datasets/edges2{dataset_type}{desired_size}/train_B'\n",
    "file_name_list = os.listdir(A_dir)\n",
    "\n",
    "for i in tqdm(range(len(file_name_list))):\n",
    "    if not file_name_list[i].endswith('.png') and not file_name_list[i].endswith('.jpg'):\n",
    "        continue\n",
    "    img_A = numpy.array(PIL.Image.open(f'{A_dir}/{file_name_list[i]}').convert('RGB'))\n",
    "    img_B = numpy.array(PIL.Image.open(f'{B_dir}/{file_name_list[i]}').convert('RGB'))\n",
    "    # img = img[...,:3]\n",
    "    # assert len(img.shape)==3, f'This image has {len(img.shape)} dimensions, while only RGB image is allowed.'\n",
    "    img_A_resized = scipy.ndimage.zoom(img_A, (desired_size/img_A.shape[0], desired_size/img_A.shape[1], 1))\n",
    "    img_B_resized = scipy.ndimage.zoom(img_B, (desired_size/img_B.shape[0], desired_size/img_B.shape[1], 1))\n",
    "    # scale back to [0,255], permute the tensor to [h, w, 3]\n",
    "    PIL.Image.fromarray(img_A_resized.astype(numpy.uint8)).save(f'{A_resized_dir}/{i}_A.jpg')\n",
    "    PIL.Image.fromarray(img_B_resized.astype(numpy.uint8)).save(f'{B_resized_dir}/{i}_B.jpg')"
   ]
  }
 ],
 "metadata": {
  "kernelspec": {
   "display_name": "p2p",
   "language": "python",
   "name": "python3"
  },
  "language_info": {
   "codemirror_mode": {
    "name": "ipython",
    "version": 3
   },
   "file_extension": ".py",
   "mimetype": "text/x-python",
   "name": "python",
   "nbconvert_exporter": "python",
   "pygments_lexer": "ipython3",
   "version": "3.8.16"
  },
  "orig_nbformat": 4
 },
 "nbformat": 4,
 "nbformat_minor": 2
}
